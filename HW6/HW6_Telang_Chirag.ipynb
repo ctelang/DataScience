{
 "cells": [
  {
   "cell_type": "markdown",
   "metadata": {},
   "source": [
    "<a id='top'></a>\n",
    "\n",
    "# CSCI3022 S21\n",
    "# Homework 6: Testing\n",
    "***\n",
    "\n",
    "**Name**: ________________________________________________________________________\n",
    "\n",
    "***\n",
    "\n",
    "This assignment is due on Canvas by **MIDNIGHT on Friday, April 15**. Your solutions to theoretical questions should be done in Markdown directly below the associated question.  Your solutions to computational questions should include any specified Python code and results as well as written commentary on your conclusions.  Remember that you are encouraged to discuss the problems with your classmates, but **you must write all code and solutions on your own**.\n",
    "\n",
    "**NOTES**: \n",
    "\n",
    "- Any relevant data sets should be available on Canvas. To make life easier on the graders if they need to run your code, do not change the relative path names here. Instead, move the files around on your computer.\n",
    "- If you're not familiar with typesetting math directly into Markdown then by all means, do your work on paper first and then typeset it later.  Here is a [reference guide](https://math.meta.stackexchange.com/questions/5020/mathjax-basic-tutorial-and-quick-reference) linked on Canvas on writing math in Markdown. **All** of your written commentary, justifications and mathematical work should be in Markdown.  I also recommend the [wikibook](https://en.wikibooks.org/wiki/LaTeX) for LaTex.\n",
    "- Because you can technically evaluate notebook cells is a non-linear order, it's a good idea to do **Kernel $\\rightarrow$ Restart & Run All** as a check before submitting your solutions.  That way if we need to run your code you will know that it will work as expected. \n",
    "- It is **bad form** to make your reader interpret numerical output from your code.  If a question asks you to compute some value from the data you should show your code output **AND** write a summary of the results in Markdown directly below your code. \n",
    "- 45 points of this assignment are in problems.  The remaining 5 are for neatness, style, and overall exposition of both code and text.\n",
    "- This probably goes without saying, but... For any question that asks you to calculate something, you **must show all work and justify your answers to receive credit**. Sparse or nonexistent work will receive sparse or nonexistent credit. \n",
    "\n",
    "---\n",
    "**Shortcuts:**  [Problem 1](#p1) | [Problem 2](#p2) | [Problem 3](#p3) |\n",
    "---"
   ]
  },
  {
   "cell_type": "code",
   "execution_count": 2,
   "metadata": {},
   "outputs": [],
   "source": [
    "import pandas as pd\n",
    "import numpy as np\n",
    "import matplotlib.pylab as plt\n",
    "import scipy.stats as stats\n",
    "%matplotlib inline"
   ]
  },
  {
   "cell_type": "markdown",
   "metadata": {},
   "source": [
    "<br>\n",
    "\n",
    "---\n",
    "<a/ id='p1'></a>\n",
    "[Back to top](#top)\n",
    "## [25 points] Problem 1 - Mins or Maxs?\n",
    "\n",
    "It's a common data science and numeric problem to need to find **best** estimators, which often represent maximums of \"value\" functions or minimums of \"loss\" functions.  In this problem we explore the way that minimums and maximums interact with one another.\n",
    "\n",
    "Consider rolling some fair, independent, 10-sided dice, with faces [1,2,3,...,10].\n",
    "\n",
    "#### Part a) Maximums\n",
    "\n",
    "Suppose we roll 2 such 10-sided die.  Denote $M:=$ the maximum of the two rolls (we will refer to this as the roller having \"advantage\" when trying to achieve a high roll in a die-rolling game).\n",
    "\n",
    "i) Use markdown to express the exact pdf of $M$.\n",
    "\n",
    "ii) Print the expected value of $M$.\n",
    "\n",
    "iii) Print the variance of $M$.\n"
   ]
  },
  {
   "cell_type": "markdown",
   "metadata": {},
   "source": [
    "i) $P(M = x) = \\begin{cases}\n",
    "                    1/100, X = 1\\\\\n",
    "                    3/100, X = 2\\\\\n",
    "                    5/100, X = 3\\\\\n",
    "                    7/100, X = 4\\\\\n",
    "                    9/100, X = 5\\\\\n",
    "                    11/100, X = 6\\\\\n",
    "                    13/100, X = 7\\\\\n",
    "                    15/100, X = 8\\\\\n",
    "                    17/100, X = 9\\\\\n",
    "                    19/100, X = 10\\\\\n",
    "                \\end{cases}$\n",
    "    \n",
    "    "
   ]
  },
  {
   "cell_type": "code",
   "execution_count": 21,
   "metadata": {},
   "outputs": [
    {
     "name": "stdout",
     "output_type": "stream",
     "text": [
      "ii) Expected value of M: 7.15\n",
      "iii) Variance of M: 5.527500000000003\n"
     ]
    }
   ],
   "source": [
    "expVal = 0\n",
    "expVal2 = 0\n",
    "for x in range(1,11):\n",
    "    if(x < 2):\n",
    "        expVal += np.sum(x * x/100)\n",
    "        expVal2 += np.sum(x**2 *x/100)\n",
    "    else:\n",
    "        expVal += np.sum(x * (x+(x-1))/100)\n",
    "        expVal2 += np.sum(x**2 *(x+(x-1))/100)\n",
    "print(\"ii) Expected value of M:\",expVal)    \n",
    "print(\"iii) Variance of M:\", expVal2-expVal**2)"
   ]
  },
  {
   "cell_type": "markdown",
   "metadata": {},
   "source": [
    "\n",
    "#### Part b) Min-Max\n",
    "\n",
    "In the rest of this problem, we'll explore tacking **both** a minimum and a maximum.  In particular, we define the experiment of *min-max*, in which we compute the minimum of two maximum rolls.  Formally: we roll 2 dice and record their maximum $M_1$, then roll 2 more dice and record their maximum $M_2$.  Finally, we denote $mM:=$ the mimimun of the two $M_1$ and $M_2$ rolls.  We may refer to this as \"disadvantage-of-advantage.\"\n",
    "\n",
    "Set up a function to simulate $n=10^4$ draws from the $mM$ random variable.  Then, *simulate* and/or *bootstrap* with your function to answer the following:\n",
    "\n",
    "i) What is the pdf of $mM$?  Plot it as a histogram.\n",
    "\n",
    "ii) What is the expected value of $mM$?\n",
    "\n",
    "iii) What is the probability that an $mM$ random variable returns a value greater then 5? Construct both a point estimate and a 90\\% confidence interval for this value.\n",
    "\n",
    "For the bootstrapped CI in iii, it is recommended you group your $10^4$ trials into 100 groups of 100 trials in order to construct a distribution of sample probabilities."
   ]
  },
  {
   "cell_type": "code",
   "execution_count": 23,
   "metadata": {},
   "outputs": [
    {
     "name": "stdout",
     "output_type": "stream",
     "text": [
      "Expected Value of mM: 7177.969999999221\n",
      "Probability of value greater than 5: 0.58169\n",
      "Confidence Interval: (5.780254853172599, 5.853545146827402)\n"
     ]
    },
    {
     "data": {
      "image/png": "[encoded data removed]",
      "text/plain": [
       "<Figure size 432x288 with 1 Axes>"
      ]
     },
     "metadata": {
      "needs_background": "light"
     },
     "output_type": "display_data"
    }
   ],
   "source": [
    "totalMaxArr = []\n",
    "minRollArr = []\n",
    "for n in range(0,20000):\n",
    "    rollInitial=np.random.randint(1, 11)\n",
    "    rollFinal=np.random.randint(1, 11)\n",
    "    if rollInitial >= rollFinal:\n",
    "        totalMaxArr.append(rollInitial)\n",
    "    elif rollFinal >= rollInitial:\n",
    "        totalMaxArr.append(rollFinal)\n",
    "        \n",
    "for i in range(0,20000-1,2):\n",
    "    if totalMaxArr[i] <= totalMaxArr[i+1]:\n",
    "        minRollArr.append(totalMaxArr[i])\n",
    "    elif totalMaxArr[i+1] <= totalMaxArr[i]:\n",
    "        minRollArr.append(totalMaxArr[i+1])     \n",
    "\n",
    "plt.hist(minRollArr, bins = range(0,12))\n",
    "plt.xlabel(\"Face\")\n",
    "plt.ylabel(\"frequecy\")\n",
    "plt.title(\"Min-Max\")\n",
    "\n",
    "expVal = 0\n",
    "for i in range(len(minRollArr)):\n",
    "    if minRollArr[i] == 1:\n",
    "        expVal += minRollArr[i] * 1/100\n",
    "    elif minRollArr[i] == 2:\n",
    "        expVal += minRollArr[i] * 3/100\n",
    "    elif minRollArr[i] == 3:\n",
    "        expVal += minRollArr[i] * 5/100\n",
    "    elif minRollArr[i] == 4:\n",
    "        expVal += minRollArr[i] * 7/100\n",
    "    elif minRollArr[i] == 5:\n",
    "        expVal += minRollArr[i] * 9/100\n",
    "    elif minRollArr[i] == 6:\n",
    "        expVal += minRollArr[i] * 11/100\n",
    "    elif minRollArr[i] == 7:\n",
    "        expVal += minRollArr[i] * 13/100\n",
    "    elif minRollArr[i] == 8:\n",
    "        expVal += minRollArr[i] * 15/100\n",
    "    elif minRollArr[i] == 9:\n",
    "        expVal += minRollArr[i] * 17/100\n",
    "    elif minRollArr[i] == 10:\n",
    "        expVal += minRollArr[i] * 19/100\n",
    "print(\"Expected Value of mM:\",expVal)\n",
    "print(\"Probability of value greater than 5:\",np.mean(minRollArr)/10)\n",
    "print(\"Confidence Interval:\",stats.t.interval(alpha=0.90, df=len(minRollArr), loc=np.mean(minRollArr), scale=stats.sem(minRollArr)))\n"
   ]
  },
  {
   "cell_type": "markdown",
   "metadata": {},
   "source": [
    "\n",
    "#### Part c) Max-min\n",
    "\n",
    "Now, define the experiment of *max-min*, in which we compute the maximum of two minumum rolls.  Formally: we roll 2 dice and record their minimum $m_1$, then roll 2 more dice and record their minimum $m_2$.  Finally, we denote $Mm:=$ the maximum of the two $m_1$ and $m_2$ rolls.  We may refer to this as \"advantage-of-disadvantage.\"\n",
    "\n",
    "Set up a function to simulate $n$ draws from the $Mm$ random variable.  Then, *simulate* and/or *bootstrap* with your function to answer the following:\n",
    "\n",
    "i) What is the pdf of $Mm$?  Plot it as a histogram.\n",
    "\n",
    "ii) What is the expected value of $Mm$?\n",
    "\n",
    "iii) What is the probability that an $Mm$ random variable returns a value greater then 5?   Construct both a point estimate and a 90\\% confidence interval for this value.\n",
    "\n",
    "\n"
   ]
  },
  {
   "cell_type": "code",
   "execution_count": 24,
   "metadata": {},
   "outputs": [
    {
     "name": "stdout",
     "output_type": "stream",
     "text": [
      "Expected Value of Mm: 5915.859999999491\n",
      "Probability of value greater than 5: 0.5219400000000001\n",
      "Confidence Interval: (5.182810693633086, 5.2559893063669145)\n"
     ]
    },
    {
     "data": {
      "image/png": "[encoded data removed]",
      "text/plain": [
       "<Figure size 432x288 with 1 Axes>"
      ]
     },
     "metadata": {
      "needs_background": "light"
     },
     "output_type": "display_data"
    }
   ],
   "source": [
    "totalMaxArr = []\n",
    "minRollArr = []\n",
    "for n in range(0,20000):\n",
    "    rollInitial=np.random.randint(1,11)\n",
    "    rollFinal=np.random.randint(1,11)\n",
    "    if rollInitial <= rollFinal:\n",
    "        totalMaxArr.append(rollInitial)\n",
    "    elif rollFinal <= rollInitial:\n",
    "        totalMaxArr.append(rollFinal)\n",
    "        \n",
    "for i in range(0,20000-1,2):\n",
    "    if totalMaxArr[i] >= totalMaxArr[i+1]:\n",
    "        minRollArr.append(totalMaxArr[i])\n",
    "    elif totalMaxArr[i+1] >= totalMaxArr[i]:\n",
    "        minRollArr.append(totalMaxArr[i+1])        \n",
    "        \n",
    "plt.hist(minRollArr, bins = range(0,12))\n",
    "plt.xlabel(\"Face\")\n",
    "plt.ylabel(\"frequecy\")\n",
    "plt.title(\"Max-Min\")\n",
    "\n",
    "\n",
    "expVal = 0\n",
    "for i in range(len(minRollArr)):\n",
    "    if minRollArr[i] == 1:\n",
    "        expVal += minRollArr[i] * 1/100\n",
    "    elif minRollArr[i] == 2:\n",
    "        expVal += minRollArr[i] * 3/100\n",
    "    elif minRollArr[i] == 3:\n",
    "        expVal += minRollArr[i] * 5/100\n",
    "    elif minRollArr[i] == 4:\n",
    "        expVal += minRollArr[i] * 7/100\n",
    "    elif minRollArr[i] == 5:\n",
    "        expVal += minRollArr[i] * 9/100\n",
    "    elif minRollArr[i] == 6:\n",
    "        expVal += minRollArr[i] * 11/100\n",
    "    elif minRollArr[i] == 7:\n",
    "        expVal += minRollArr[i] * 13/100\n",
    "    elif minRollArr[i] == 8:\n",
    "        expVal += minRollArr[i] * 15/100\n",
    "    elif minRollArr[i] == 9:\n",
    "        expVal += minRollArr[i] * 17/100\n",
    "    elif minRollArr[i] == 10:\n",
    "        expVal += minRollArr[i] * 19/100\n",
    "print(\"Expected Value of Mm:\",expVal)      \n",
    "print(\"Probability of value greater than 5:\",np.mean(minRollArr)/10)\n",
    "print(\"Confidence Interval:\",stats.t.interval(alpha=0.90, df=len(minRollArr), loc=np.mean(minRollArr), scale=stats.sem(minRollArr)))\n"
   ]
  },
  {
   "cell_type": "markdown",
   "metadata": {},
   "source": [
    "\n",
    "#### Part d) Discussion\n",
    "\n",
    "Taking a look at your work in parts c or d, use full English sentences to answer the following:\n",
    "\n",
    "i) In general, which returns a higher value: the maximum of minimums or the minimum of maximums?\n",
    "\n",
    "ii) Is there ever a case to prefer a min-of-max rather than a max-of-mins?  Suppose the goal is to return \"a 2 or higher\", which do we prefer?  Is this a different best choice from the goal of \"need to return exactly a 20?\"\n",
    "\n",
    "iii) What happens if the number of rolls in the selection increases?  For example, if I roll 100 dice in total, and take as my random variable the minimum of 10 sets of 10 maximums, how should this differ from the distribution in part b)?  You may simulate to verify your result, but should try to explain in plain English either way?"
   ]
  },
  {
   "cell_type": "markdown",
   "metadata": {},
   "source": [
    "1) In general, the minimum of maximums returned the higher values.\n",
    "\n",
    "2) Yes, there are cases to prefer a min-of-max rather than a max-of-mins. If the goal is to return \"a 2 or higher\", it would be better to go with min-of-max -- which is also the case for \"need to return exactly a 20\". \n",
    "\n",
    "3) If the number of rolls in the selection increases, the distribution would be higher -- as there are more maximums in each set. When choosing the minimums out of the 10 maximum sets, the values would be toward the higher end of the rolls.\n",
    "    \n",
    "    "
   ]
  },
  {
   "cell_type": "markdown",
   "metadata": {},
   "source": [
    "<br>\n",
    "\n",
    "---\n",
    "<a/ id='p2'></a>\n",
    "[Back to top](#top)\n",
    "## [10 points] Problem 2 - A (very) small sample hypothesis test\n",
    "\n",
    "We're counting birds outside our work-from-home offices, and recording $X$, the number that pass between 2p-3p.  Let $X \\sim \\mathcal{P}(\\lambda)$. Suppose that we want to test the null hypothesis that $\\lambda = 15$, and the alternative hypothesis is that $\\lambda > 15$. Since we're just starting today, our sample size for this test is equal to 1.\n",
    "\t\n",
    "#### Part a)\n",
    " \n",
    "Naturally for a hypothesis test we might come up with a rejection region. Here, we will reject the null hypothesis if $X$ is greater than some number $c$ that represents \"too many birds\" for a process of $\\lambda = 15$. What value should we choose for $c$ such that the probability of a type I error is equal to $0.05$?\n",
    "\n",
    "(NB: for a discrete R.V., we more precisely ensure that P(Type I error) *is not more than* $0.05$)\n"
   ]
  },
  {
   "cell_type": "markdown",
   "metadata": {},
   "source": [
    "***\n",
    "$H_0: \\lambda = 15, H_1: \\lambda > 15 \\\\ P_{H_0}[x > c] \\le 0.05 \\\\ P_{H_0}[x \\le c] \\ge 0.95 \\\\ \\sum_{x=0}^{c} e^{-15}*\\frac{15^x}{x!} \\ge 0.95 \\\\$\n",
    "$c = 21: P_{H_0}[x \\le 21] = 0.9468, c = 22: P_{H_0}[x \\le 22] = 0.9672 > 0.95 \\\\ $\n",
    "The value that should we choose for c such that the probability of a type I error is equal to  0.05 is 22.\n",
    "    \n",
    "    "
   ]
  },
  {
   "cell_type": "markdown",
   "metadata": {},
   "source": [
    "\n",
    "#### Part b)\n",
    "\n",
    "If in reality, $\\lambda$ is *actually* equal to 20, what is the probability of making a type 2 error using the cut-off point from (a)?\n",
    "    \n",
    "    "
   ]
  },
  {
   "cell_type": "markdown",
   "metadata": {},
   "source": [
    "***\n",
    "$H_0: \\lambda = 15, H_1: \\lambda > 15 \\\\ = P_{H_0}[x \\le c] \\\\ = P_{H_0}[x \\le 22] \\\\ = \\sum_{x=0}^{22} e^{-20}*\\frac{20^x}{x!} \\\\ = 0.72061$\n",
    "\n",
    "    "
   ]
  },
  {
   "cell_type": "code",
   "execution_count": null,
   "metadata": {},
   "outputs": [],
   "source": []
  },
  {
   "cell_type": "markdown",
   "metadata": {},
   "source": [
    "<br>\n",
    "\n",
    "---\n",
    "<a/ id='p3'></a>\n",
    "[Back to top](#top)\n",
    "## [10 points] Problem 3 - The power!\n",
    "\n",
    "\n",
    "Let $Y$ be the number of heads in 100 tosses of a possibly biased coin, with probability of heads on any toss $p$. Similar to the Belgian Euro example, we hope to *test* whether the coin is biased **toward heads**.\n",
    "\n",
    "#### Part a)\n",
    "\n",
    "State the null and alternative hypotheses.\n"
   ]
  },
  {
   "cell_type": "markdown",
   "metadata": {},
   "source": [
    "***\n",
    "The null and alterative hypotheses are as follows: $\\\\ H_0: p = 0.50 \\\\ H_1: p > 0.50$"
   ]
  },
  {
   "cell_type": "markdown",
   "metadata": {},
   "source": [
    "\n",
    "#### Part b)\n",
    "Suppose we define the rejection region to be $Y > 58$. \n",
    "\n",
    "Calculate the rate of type I error of this test. (For this, and all remaining parts, calculate probabilities **exactly**, i.e., without using a normal approximation)\n"
   ]
  },
  {
   "cell_type": "code",
   "execution_count": 3,
   "metadata": {},
   "outputs": [
    {
     "name": "stdout",
     "output_type": "stream",
     "text": [
      "0.06660530960360678\n"
     ]
    }
   ],
   "source": [
    "import scipy\n",
    "prob = scipy.stats.binom.cdf(57, 100, 0.5)\n",
    "finalProb = 1 - prob\n",
    "print(finalProb)"
   ]
  },
  {
   "cell_type": "markdown",
   "metadata": {},
   "source": [
    "\n",
    "#### Part c)\n",
    "\n",
    "Simulate a single dataset (or appropriate summary of a dataset) under the null hypothesis, and apply your test from part (a). State your conclusion. Is your conclusion in error? If so, which type?\n",
    "\n",
    "Repeat this process 1000 times in total and verify that the error rate appears consistent with your calculations in part b).\n"
   ]
  },
  {
   "cell_type": "code",
   "execution_count": 9,
   "metadata": {},
   "outputs": [
    {
     "name": "stdout",
     "output_type": "stream",
     "text": [
      "The probability of getting head is 0.04970000000000001%\n"
     ]
    }
   ],
   "source": [
    "import random\n",
    "def experiment(): \n",
    "    top_face = random.randint(0, 1)\n",
    "\n",
    "    if top_face == 1: \n",
    "        return 1 \n",
    "    return 0\n",
    "\n",
    "headCounter = 0 \n",
    "\n",
    "for _ in range(1000):\n",
    "    headCounter += experiment()\n",
    "print(f\"The probability of getting head is {headCounter / 1000000 * 100}%\")"
   ]
  },
  {
   "cell_type": "markdown",
   "metadata": {},
   "source": [
    "\n",
    "#### Part d)\n",
    "Consider that the *reality* of a biased coin could take on any number of possible different values of actual bias $p$.  Construct a grid/list of possible values $p$ for the alternative hypothesis $p_{alt}=[0.51,0.52,0.53, \\dots .99, 1.00]$.\n",
    "\n",
    "For each value of $p$ in this list, calculate the power of the test from part $a$.  Return exact values rather than simulated/estimated probabilities.\n",
    "\n",
    "(Recall: statistical **power** is the probability of rejecting the null hypothesis while the alternative hypothesis is true). \n",
    "\n",
    "Plot the power ($y$-axis) against $p$ ($x$-axis) over each of these scenarios. \n",
    "\n",
    "Interpret/comment on this plot. Specifically, as $p$ gets *further* from the specified $p=p_0$ under the null hypothesis, what happens to the power?"
   ]
  },
  {
   "cell_type": "code",
   "execution_count": 18,
   "metadata": {},
   "outputs": [
    {
     "name": "stdout",
     "output_type": "stream",
     "text": [
      "51 Power: 0.593\n",
      "52 Power: 0.742\n",
      "53 Power: 0.908\n",
      "54 Power: 0.370\n",
      "55 Power: 0.784\n",
      "56 Power: 0.742\n",
      "57 Power: 0.855\n",
      "58 Power: 0.742\n",
      "59 Power: 0.784\n",
      "60 Power: 0.958\n",
      "61 Power: 0.999\n",
      "62 Power: 0.958\n",
      "63 Power: 0.944\n",
      "64 Power: 0.994\n",
      "65 Power: 0.884\n",
      "66 Power: 0.998\n",
      "67 Power: 1.000\n",
      "68 Power: 0.996\n",
      "69 Power: 0.968\n",
      "70 Power: 0.976\n",
      "71 Power: 0.988\n",
      "72 Power: 1.000\n",
      "73 Power: 0.999\n",
      "74 Power: 0.988\n",
      "75 Power: 1.000\n",
      "76 Power: 1.000\n",
      "77 Power: 1.000\n",
      "78 Power: 1.000\n",
      "79 Power: 1.000\n",
      "80 Power: 1.000\n",
      "81 Power: 1.000\n",
      "82 Power: 1.000\n",
      "83 Power: 1.000\n",
      "84 Power: 1.000\n",
      "85 Power: 1.000\n",
      "86 Power: 1.000\n",
      "87 Power: 1.000\n",
      "88 Power: 1.000\n",
      "89 Power: 1.000\n",
      "90 Power: 1.000\n",
      "91 Power: 1.000\n",
      "92 Power: 1.000\n",
      "93 Power: 1.000\n",
      "94 Power: 1.000\n",
      "95 Power: 1.000\n",
      "96 Power: 1.000\n",
      "97 Power: 1.000\n",
      "98 Power: 1.000\n",
      "99 Power: 1.000\n",
      "100 Power: 1.000\n"
     ]
    },
    {
     "data": {
      "text/plain": [
       "Text(0, 0.5, 'power')"
      ]
     },
     "execution_count": 18,
     "metadata": {},
     "output_type": "execute_result"
    },
    {
     "data": {
      "image/png": "[encoded data removed]",
      "text/plain": [
       "<Figure size 432x288 with 1 Axes>"
      ]
     },
     "metadata": {
      "needs_background": "light"
     },
     "output_type": "display_data"
    }
   ],
   "source": [
    "hypOneVals = []\n",
    "for i in range(51,101):\n",
    "    hypOneVals.append(i)\n",
    "totalSets = []\n",
    "for j in range(len(hypOneVals)):\n",
    "    total = 0\n",
    "    for i in range(0,100):\n",
    "        flip = np.random.randint(0,100)\n",
    "        if flip < hypOneVals[j]:\n",
    "            total += 1\n",
    "    totalSets.append(total)\n",
    "\n",
    "powerArr = []\n",
    "def statPower(lam):\n",
    "    total = 0\n",
    "    for i in range(0,lam+1):\n",
    "        total += np.exp(1)**(-50) * 50**i/np.math.factorial(i)\n",
    "    return total\n",
    "for i in range(0,len(totalSets)):\n",
    "    print(hypOneVals[i],\"Power: %.3f\" % statPower(totalSets[i]))\n",
    "    powerArr.append(statPower(totalSets[i]))\n",
    "    \n",
    "plt.scatter(totalSets,powerArr)\n",
    "plt.xlabel(\"p (in %)\")\n",
    "plt.ylabel(\"power\")\n"
   ]
  },
  {
   "cell_type": "markdown",
   "metadata": {},
   "source": [
    "As $p$ gets *further* from the specified $p=p_0$ under the null hypothesis, the power increases until it plateaus at 1.0."
   ]
  },
  {
   "cell_type": "markdown",
   "metadata": {},
   "source": [
    "#### Part e)\n",
    "\n",
    "(e) Suppose we allowed other rejection regions than $Y>58$.  Use the ideas in part (d) to answer the following: how many flips $m$ of a coin are necessary to achieve both $\\alpha=0.05$ **and** $\\beta=0.05$ for the hypothesis in part (a)?"
   ]
  },
  {
   "cell_type": "markdown",
   "metadata": {},
   "source": [
    "To achieve $\\alpha=0.05$, it would take a minimum of about 65 flips -- since the conditions from part A will be satsified as long as flips > 58. To achieve $\\beta=0.05$, it should also take around 65 flips to satisfy $\\beta \\leq 0.05$ -- though the values of $\\beta$ vary due to the randomness, "
   ]
  },
  {
   "cell_type": "code",
   "execution_count": null,
   "metadata": {},
   "outputs": [],
   "source": []
  }
 ],
 "metadata": {
  "kernelspec": {
   "display_name": "Python 3",
   "language": "python",
   "name": "python3"
  },
  "language_info": {
   "codemirror_mode": {
    "name": "ipython",
    "version": 3
   },
   "file_extension": ".py",
   "mimetype": "text/x-python",
   "name": "python",
   "nbconvert_exporter": "python",
   "pygments_lexer": "ipython3",
   "version": "3.8.6"
  }
 },
 "nbformat": 4,
 "nbformat_minor": 4
}
