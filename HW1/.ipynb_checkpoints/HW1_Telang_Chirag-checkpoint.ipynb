{
 "cells": [
  {
   "cell_type": "markdown",
   "metadata": {},
   "source": [
    "<a id='top'></a>\n",
    "\n",
    "# CSCI3022 S21\n",
    "# Homework 1: Measures of Centrality and Dispersion\n",
    "***\n",
    "\n",
    "**Name**: Chirag Telang\n",
    "\n",
    "***\n",
    "\n",
    "This assignment is due on Canvas by **MIDNIGHT on Monday, February 1**. Your solutions to theoretical questions should be done in Markdown directly below the associated question.  Your solutions to computational questions should include any specified Python code and results as well as written commentary on your conclusions.  Remember that you are encouraged to discuss the problems with your classmates, but **you must write all code and solutions on your own**.\n",
    "\n",
    "**NOTES**: \n",
    "\n",
    "- Any relevant data sets should be available on Canvas. To make life easier on the graders if they need to run your code, do not change the relative path names here. Instead, move the files around on your computer.\n",
    "- If you're not familiar with typesetting math directly into Markdown then by all means, do your work on paper first and then typeset it later.  Here is a [reference guide](https://math.meta.stackexchange.com/questions/5020/mathjax-basic-tutorial-and-quick-reference) linked on Canvas on writing math in Markdown. **All** of your written commentary, justifications and mathematical work should be in Markdown.  I also recommend the [wikibook](https://en.wikibooks.org/wiki/LaTeX) for LaTex.\n",
    "- Because you can technically evaluate notebook cells is a non-linear order, it's a good idea to do **Kernel $\\rightarrow$ Restart & Run All** as a check before submitting your solutions.  That way if we need to run your code you will know that it will work as expected. \n",
    "- It is **bad form** to make your reader interpret numerical output from your code.  If a question asks you to compute some value from the data you should show your code output **AND** write a summary of the results in Markdown directly below your code. \n",
    "- 95 points of this assignment are in problems.  The remaining 5 are for neatness, style, and overall exposition of both code and text.\n",
    "- This probably goes without saying, but... For any question that asks you to calculate something, you **must show all work and justify your answers to receive credit**. Sparse or nonexistent work will receive sparse or nonexistent credit. \n",
    "\n",
    "---\n",
    "**Shortcuts:**  [Problem 1](#p1) | [Problem 2](#p2) | [Problem 3](#p3) |\n",
    "---"
   ]
  },
  {
   "cell_type": "code",
   "execution_count": 2,
   "metadata": {},
   "outputs": [],
   "source": [
    "import pandas as pd\n",
    "import numpy as np\n",
    "import matplotlib.pylab as plt\n",
    "%matplotlib inline"
   ]
  },
  {
   "cell_type": "markdown",
   "metadata": {},
   "source": [
    "[Back to top](#top)\n",
    "\n",
    "<br>\n",
    "\n",
    "<a/ id='p1'></a>\n",
    "\n",
    "### (15 points) Problem 1: Theory and Computation (Means and Medians)\n",
    "***\n",
    "\n",
    "A method to investigate the sensitivity of the sample mean and sample median to extreme outliers and changes in the dataset is to replace one or more elements in a given dataset by a number $y$ and investigate the effect when $y$ changes. To illustrate this, consider the following dataset:\n",
    " \n",
    "$$  12.2 \\quad -5.0 \\quad 1.0 \\quad 3.8 \\quad -4.1 \\quad 5.9 \\quad 1.9 \\quad 9.0 \\quad y$$\n",
    "\n",
    "\n"
   ]
  },
  {
   "cell_type": "markdown",
   "metadata": {},
   "source": [
    "**Part A:** Compute the sample mean and sample median for $y=3.5$. Then compute both quantities again for $y=6$."
   ]
  },
  {
   "cell_type": "code",
   "execution_count": 42,
   "metadata": {},
   "outputs": [
    {
     "name": "stdout",
     "output_type": "stream",
     "text": [
      "for y = 3.5: \n",
      "\tmedian = 3.5 \n",
      "\tmean = 3.1333333333333337\n",
      "for y = 6.0: \n",
      "\tmedian = 3.8 \n",
      "\tmean = 3.4111111111111114\n"
     ]
    }
   ],
   "source": [
    "data1 = np.array([12.2, -5.0, 1.0, 3.8, -4.1, 5.9, 1.9, 9.0, 3.5])\n",
    "data2 = np.array([12.2, -5.0, 1.0, 3.8, -4.1, 5.9, 1.9, 9.0, 6.0])\n",
    "\n",
    "print(\"for y = 3.5: \\n\\tmedian =\", np.median(data1), \"\\n\\tmean =\", np.mean(data1))\n",
    "\n",
    "print(\"for y = 6.0: \\n\\tmedian =\", np.median(data2), \"\\n\\tmean =\", np.mean(data2))\n"
   ]
  },
  {
   "cell_type": "markdown",
   "metadata": {},
   "source": [
    "When $y=3.5$: Median = 3.5, Mean = 3.133\n",
    "\n",
    "When $y=6.0$: Median = 3.8, Mean = 3.411"
   ]
  },
  {
   "cell_type": "markdown",
   "metadata": {},
   "source": [
    "**Part B:** Is there a value for $y$ that would make the mean of the data equal to 6? If so, calculate the value of $y$ that makes the mean equal to 6. If not, clearly explain why not.\n",
    "    \n",
    "Is there a value for $y$ that would make the median of the data equal to 6? If so, calculate the values of $y$ that makes the median equal to 6. If not, clearly explain why not."
   ]
  },
  {
   "cell_type": "markdown",
   "metadata": {},
   "source": [
    "We know that $sum$ = mean * num of values. In this case, mean would equal 6, and the number of values would be 9 -- so $sum = 54$. In the given data set, the sum without $y$ equals 24.7, so to get to the required sum of 54, $y$ would have to equal 29.3.\n",
    "\n",
    "In order to compute what number $y$ would have to be in order for the median to equal 6, we would need to calculate the average of the two middlemost numbers. In this case, the middlemost numbers are 1.9 and 3.8, which means there is no number $y$ that would make the median equal to 6."
   ]
  },
  {
   "cell_type": "markdown",
   "metadata": {},
   "source": [
    "**Part C**: Compute the sample variance and the sample standard deviation for the original dataset given in part A, with $y=6$."
   ]
  },
  {
   "cell_type": "code",
   "execution_count": 38,
   "metadata": {},
   "outputs": [
    {
     "name": "stdout",
     "output_type": "stream",
     "text": [
      "The sample variance is Value    32.098611\n",
      "dtype: float64\n",
      "The standard deviation is 5.665563618132896\n"
     ]
    }
   ],
   "source": [
    "newData = [12.2, -5.0, 1.0, 3.8, -4.1, 5.9, 1.9, 9.0, 6.0]\n",
    "dfData = pd.DataFrame(newData, columns = ['Value'])\n",
    "\n",
    "print(\"The sample variance is {}\".format(dfData.var()))\n",
    "print(\"The standard deviation is {}\".format(np.std(newData, ddof = 1)))"
   ]
  },
  {
   "cell_type": "markdown",
   "metadata": {},
   "source": [
    "Sample Variance: 32.0986\n",
    "\n",
    "Standard Deviation: 5.66556"
   ]
  },
  {
   "cell_type": "markdown",
   "metadata": {},
   "source": [
    "**Part D**: Compute both the sample mean and median for the following cases: \n",
    "- $y=9$ \n",
    "- $y=50$ \n",
    "- $y=4.36$ \n",
    "- $y \\to \\infty$ \n",
    "- $y \\to -\\infty$"
   ]
  },
  {
   "cell_type": "code",
   "execution_count": 52,
   "metadata": {},
   "outputs": [
    {
     "name": "stdout",
     "output_type": "stream",
     "text": [
      "Value    3.8\n",
      "dtype: float64\n",
      "Value    3.744444\n",
      "dtype: float64\n",
      "Value    3.8\n",
      "dtype: float64\n",
      "Value    8.3\n",
      "dtype: float64\n",
      "Value    3.8\n",
      "dtype: float64\n",
      "Value    3.228889\n",
      "dtype: float64\n",
      "Value    3.8\n",
      "dtype: float64\n",
      "Value    inf\n",
      "dtype: float64\n",
      "Value    1.9\n",
      "dtype: float64\n",
      "Value   -inf\n",
      "dtype: float64\n"
     ]
    }
   ],
   "source": [
    "\n",
    "newData = [12.2, -5.0, 1.0, 3.8, -4.1, 5.9, 1.9, 9.0, 9.0] # when y = 9\n",
    "dfData = pd.DataFrame(newData, columns = ['Value'])\n",
    "print(dfData.median())\n",
    "print(dfData.mean())\n",
    "\n",
    "\n",
    "newData1 = [12.2, -5.0, 1.0, 3.8, -4.1, 5.9, 1.9, 9.0, 50.0] # when y = 50\n",
    "dfData = pd.DataFrame(newData1, columns = ['Value'])\n",
    "print(dfData.median())\n",
    "print(dfData.mean())\n",
    "\n",
    "newData2 = [12.2, -5.0, 1.0, 3.8, -4.1, 5.9, 1.9, 9.0, 4.36] # when y = 4.36\n",
    "dfData = pd.DataFrame(newData2, columns = ['Value'])\n",
    "print(dfData.median())\n",
    "print(dfData.mean())\n",
    "\n",
    "y = float('inf')\n",
    "newData3 = [12.2, -5.0, 1.0, 3.8, -4.1, 5.9, 1.9, 9.0, y] # when y = inf\n",
    "dfData = pd.DataFrame(newData3, columns = ['Value'])\n",
    "print(dfData.median())\n",
    "print(dfData.mean())\n",
    "\n",
    "y = float('-inf')\n",
    "newData4 = [12.2, -5.0, 1.0, 3.8, -4.1, 5.9, 1.9, 9.0, y] # when y = -inf\n",
    "dfData = pd.DataFrame(newData4, columns = ['Value'])\n",
    "print(dfData.median())\n",
    "print(dfData.mean())"
   ]
  },
  {
   "cell_type": "markdown",
   "metadata": {},
   "source": [
    "For $y = 9$: Median = 3.8 Mean = 3.74\n",
    "\n",
    "For $y = 50$: Median = 3.8 Mean = 8.3 \n",
    "\n",
    "For $y = 4.36$: Median = 3.8 Mean = 3.228889 \n",
    "\n",
    "For $y = \\infty$: Median = 3.8 Mean = $\\infty$\n",
    "\n",
    "For $y = -\\infty$: Median = 1.9 Mean = $-\\infty$ \n",
    "    "
   ]
  },
  {
   "cell_type": "markdown",
   "metadata": {},
   "source": [
    "**Part E**: Think about the previous parts, above, and describe in words or mathematical notation the answers to the following two questions:\n",
    "\n",
    "- By varying $y$, what is the set of all the possible values that the sample mean could take on?\n",
    "- By varying $y$, what is the set of all the possible values that the sample median could take on? Specifically, for what sets of $y$ values does the median take on its different possible values?"
   ]
  },
  {
   "cell_type": "markdown",
   "metadata": {},
   "source": [
    "By varying $y$, the set of all possible values that the sample mean could take on is $(-\\infty, \\infty)$.\n",
    "By varying $y$, the set of all possible values that the sample median could take on is $[1.9, 3.8]$. Specifically, when the y-values are between $[-\\infty, 1.9]$ the median would be 1.9, and when the y-values are between $[3.8, \\infty]$, the median would be $3.8$."
   ]
  },
  {
   "cell_type": "markdown",
   "metadata": {},
   "source": [
    "**Part F**: Describe in words or mathematical notation, what happens to the sample standard deviation when $y$ is varied in the following ways: \n",
    " \n",
    "- $y \\to \\infty$ \n",
    "- $y \\to \\bar{x}$"
   ]
  },
  {
   "cell_type": "markdown",
   "metadata": {},
   "source": [
    "In the first instance -- as y approaches infinity, the sample standard deviation also approaches infinity since this outlier skews the spread of the data.\n",
    "In the second instance -- as y approaches $\\bar{x}$, the standard deviation approaches it's previous value before the addition of a new value $y_1$."
   ]
  },
  {
   "cell_type": "markdown",
   "metadata": {},
   "source": [
    "[Back to top](#top)\n",
    "<a/ id='p2'></a>\n",
    "\n",
    "## (15 pts) Problem 2: Theory and Computation (Scaling)\n",
    "***\n",
    "Consider the following 3 data sets:\n",
    "\n",
    "`A=[0,1,2,3,4,5,6,7,8,9,10,11,12]`\n",
    "\n",
    "`B=[0,0,0,12,7,18,47,25,0,13,0,35]`\n",
    "\n",
    "`C` is the random data set generated by using `np.random.exponential(scale=43, size=1000)`\n",
    "\n",
    "For each data set, perform the following computations in parts A, B, and C:\n",
    "\n",
    "**Part A:** Compute and print the mean and standard deviation of the data set."
   ]
  },
  {
   "cell_type": "code",
   "execution_count": 3,
   "metadata": {},
   "outputs": [
    {
     "name": "stdout",
     "output_type": "stream",
     "text": [
      "The Mean of data set A is     6.0\n",
      "dtype: float64\n",
      "The Standard Deviation of data set A is     3.89444\n",
      "dtype: float64\n",
      "The Mean of date set B is     13.083333\n",
      "dtype: float64\n",
      "The Standard Deviation of data set B is     15.640613\n",
      "dtype: float64\n",
      "The Mean of data set C is     42.849879\n",
      "dtype: float64\n",
      "The Standard Deviation of data set C is     43.868175\n",
      "dtype: float64\n"
     ]
    }
   ],
   "source": [
    "setA = [0,1,2,3,4,5,6,7,8,9,10,11,12]\n",
    "dfsetA = pd.DataFrame(setA, columns = [''])\n",
    "\n",
    "print(\"The Mean of data set A is {}\".format(dfsetA.mean()))\n",
    "print(\"The Standard Deviation of data set A is {}\".format(dfsetA.std()))\n",
    "\n",
    "setB = [0,0,0,12,7,18,47,25,0,13,0,35]\n",
    "dfsetB = pd.DataFrame(setB, columns = [''])\n",
    "\n",
    "print(\"The Mean of date set B is {}\".format(dfsetB.mean()))\n",
    "print(\"The Standard Deviation of data set B is {}\".format(dfsetB.std()))\n",
    "\n",
    "setC = np.random.exponential(scale=43, size=1000)\n",
    "dfsetC = pd.DataFrame(setC, columns = [''])\n",
    "\n",
    "print(\"The Mean of data set C is {}\".format(dfsetC.mean()))\n",
    "print(\"The Standard Deviation of data set C is {}\".format(dfsetC.std()))"
   ]
  },
  {
   "cell_type": "markdown",
   "metadata": {},
   "source": [
    "Set A Mean, Std Deviation: 6.0, 3.894 \n",
    "\n",
    "Set B Mean, Std Deviation: 13.083, 15.641\n",
    "\n",
    "Set C Mean, Std Deviation: 42.8499, 43.868"
   ]
  },
  {
   "cell_type": "markdown",
   "metadata": {},
   "source": [
    "**Part B:** Compute and print  the mean and standard deviation of the new data set formed by subtracting the original mean from each observation."
   ]
  },
  {
   "cell_type": "code",
   "execution_count": 5,
   "metadata": {},
   "outputs": [
    {
     "name": "stdout",
     "output_type": "stream",
     "text": [
      "The mean of new A list is 0.0 and the standard deviation is 3.8944404818493075\n",
      "The mean of new B list is 0.0033333333333338544 and the standard deviation is 15.64061341120571\n",
      "The mean of new C list is -0.00012054371553847431 and the standard deviation is 43.86817506017594\n"
     ]
    }
   ],
   "source": [
    "newsetA = np.array(setA) - 6.0\n",
    "stdDevA = np.std(newsetA, ddof = 1)\n",
    "print(\"The mean of the new set A is {} and its standard deviation is {}\".format(np.mean(newsetA), stdDevA))\n",
    "\n",
    "newsetB = np.array(setB) - 13.08\n",
    "stdDevB = np.std(newsetB, ddof = 1)\n",
    "print(\"The mean of the new set B is {} and its standard deviation is {}\".format(np.mean(newsetB), stdDevB))\n",
    "\n",
    "\n",
    "newsetC = np.array(setC) - 42.85\n",
    "stdDevC = np.std(newsetC, ddof = 1)\n",
    "print(\"The mean of the new set C is {} and its standard deviation is {}\".format(np.mean(newsetC), stdDevC))"
   ]
  },
  {
   "cell_type": "markdown",
   "metadata": {},
   "source": [
    "Set A Mean, Std Deviation: 0.0, 3.894 \n",
    "\n",
    "Set B Mean, Std Deviation: 0.0, 15.641\n",
    "\n",
    "Set C Mean, Std Deviation: 0.0, 43.868"
   ]
  },
  {
   "cell_type": "markdown",
   "metadata": {},
   "source": [
    "**Part C:** Compute and print  the mean and standard deviation of the new data set formed by subtracting the original mean from each observation and then dividing by the original standard deviation."
   ]
  },
  {
   "cell_type": "code",
   "execution_count": 8,
   "metadata": {},
   "outputs": [
    {
     "name": "stdout",
     "output_type": "stream",
     "text": [
      "The mean of new A list is -5.124106267500723e-17 and the standard deviation is 0.9607689228305228\n",
      "The mean of new B list is -0.31946743617400614 and the standard deviation is 0.957427107756338\n",
      "The mean of new C list is -2.7478625535142244e-06 and the standard deviation is 0.999499874937461\n"
     ]
    }
   ],
   "source": [
    "newsetA1 = (np.array(setA) - 6.0)/stdDevA\n",
    "print(\"The mean of the new set A is {} and its standard deviation is {}\".format(np.mean(newsetA1), np.std(newsetA1)))\n",
    "\n",
    "newsetB1 = (np.array(setB) - 18.08)/stdDevB\n",
    "print(\"The mean of the new set B is {} and its standard deviation is {}\".format(np.mean(newsetB1), np.std(newsetB1)))\n",
    "\n",
    "newsetC1 = (np.array(setC) - 42.85)/stdDevC\n",
    "print(\"The mean of the new set C is {} and its standard deviation is {}\".format(np.mean(newsetC1), np.std(newsetC1)))"
   ]
  },
  {
   "cell_type": "markdown",
   "metadata": {},
   "source": [
    "Set A Mean, Std Deviation: -5.124e-17, 0.961 \n",
    "\n",
    "Set B Mean, Std Deviation: -0.319, 0.957\n",
    "\n",
    "Set C Mean, Std Deviation: -2.748, 0.9995"
   ]
  },
  {
   "cell_type": "markdown",
   "metadata": {},
   "source": [
    "**Part D:** Why might this result matter?"
   ]
  },
  {
   "cell_type": "markdown",
   "metadata": {},
   "source": [
    "This result matters because it allows you to easily compare data points in the set. "
   ]
  },
  {
   "cell_type": "markdown",
   "metadata": {},
   "source": [
    "**Part E:** Looking at each of the 3 data sets, come up with a real-world context where those spectrum of numbers might make for reasonable observations."
   ]
  },
  {
   "cell_type": "markdown",
   "metadata": {},
   "source": [
    "For data set A, these spectrum of numbers could apply to a situation that accounts for the number of cars in a parking garage per hour in a given day.\n",
    "For data set B, we could witness similiar data representations when dealing with amount of rainfall per day (in cms) in a given timeframe. \n",
    "For data set C, we could witness similiar data representations when dealing with coronavirus cases in a particular area."
   ]
  },
  {
   "cell_type": "markdown",
   "metadata": {},
   "source": [
    "**Part F:** Let's prove a generalization of the result you likely observed in part B.  What happens if you take data set and \"recenter\" it by adding or subtracting the same number $c$ to each and every observation?\n",
    "\n",
    "In other words, show that the mean of the data set $Y$ given by $Y_i=X_i+c$ is $\\bar{Y}=\\bar{X}+c$.\n",
    "\n",
    "(**Hint**: start with the definition of the mean: $$\\bar{Y}=\\frac{\\sum_{i=1}^n Y_i}{n},$$ then work with the right hand side!)"
   ]
  },
  {
   "cell_type": "markdown",
   "metadata": {},
   "source": [
    " $$\\bar{Y}=\\frac{\\sum_{i=1}^n Y_i}{n},$$  $$\\bar{Y}=\\frac{\\sum_{i=1}^n X_i + c}{n},$$ $$\\bar{Y}=\\frac{\\sum_{i=1}^n X_i + \\sum_{i=1}^n c}{n},$$ $$\\bar{Y}= \\bar{X} + \\frac{c * n}{n},$$ $$\\bar{Y}=\\bar{X}+c$$"
   ]
  },
  {
   "cell_type": "markdown",
   "metadata": {},
   "source": [
    "[Back to top](#top)\n",
    "<a/ id='p3'></a>\n",
    "\n",
    "## (15 pts) Problem 3: Computation (Streaming Means)\n",
    "***\n",
    "\n",
    "Data science is often divided into two categories: questions of *what* the best value might be to repreesnt a data problem, and questions of *how* to compute that data value.  Question 1 - and prior lectures - should tell you that computing the mean is valuable!  But *how* do we compute the mean?\n",
    "\n",
    "Let $x_1, x_2, \\ldots, x_n$ be $n$ observations of a variable of interest.  Recall that the sample mean $\\bar{x}_n$ and sample variance $s^2_n$ are given by \n",
    "<a id='eq1'></a>\n",
    "$$\n",
    "\\bar{x}_n = \\frac{1}{n}\\sum_{k=1}^n x_k \\quad \\textrm{and} \\quad s^2_n = \\frac{1}{n-1}\\sum_{k=1}^n \\left( x_k - \\bar{x}_n\\right)^2 \\qquad \\tag{Equation 1}\n",
    "$$"
   ]
  },
  {
   "cell_type": "markdown",
   "metadata": {},
   "source": [
    "**Part A**:\n",
    "\n",
    "How many computations - floating point operations: addition, subtraction, multiplication, division each count as 1 operation - are required to compute the mean of the data set with $n$ observations?\n"
   ]
  },
  {
   "cell_type": "markdown",
   "metadata": {},
   "source": [
    "To compute the mean of the data set with $n$ observations, it would take $n+1$ computations."
   ]
  },
  {
   "cell_type": "markdown",
   "metadata": {},
   "source": [
    "**Part B**:\n",
    "\n",
    "Now suppose our data is *streaming*- we slowly add observations one at a time, instead of seeing the entire data set at once.  We are still interested in the mean, so if we stream the data set `[4,6,0,10, ...]`, we first compute the mean of the the first data point `[4]`, then we recompute the mean of the first two points `[4,6]`, then we recompute the mean of three `[4,6,0]`, and so forth.\n",
    "\n",
    "Suppose we recompute the mean from scratch after each and every one of our $n$ observations are one-by-one added to our data set.  How many floating point operations are spent computing (and re-computing) the mean of the data set?"
   ]
  },
  {
   "cell_type": "markdown",
   "metadata": {},
   "source": [
    "Whenever there is a new entry, there are 2 calculations being made -- one for the sum of the numbers, and one for the amount of numbers in the set. Therefore, it would take $n^2$ computations."
   ]
  },
  {
   "cell_type": "markdown",
   "metadata": {},
   "source": [
    "We should be convinced that streaming a mean costs a lot more computer time than just computing once!\n",
    "\n",
    "In this problem we explore a smarter method for such an _online_ computation of the mean.  \n",
    "\n",
    "**Result**: The following relation holds between the mean of the first $n-1$ observations and the mean of all $n$ observations: \n",
    "\n",
    "$$\n",
    "\\bar{x}_n = \\bar{x}_{n-1} + \\frac{x_n - \\bar{x}_{n-1}}{n}\n",
    "$$\n",
    "\n",
    "\n",
    "A proof of this result is in the [Appendix](#Appendix) after this problem, and requires some careful manipulations of the sum $\\bar{x}_n$.  Your task will be to computationally verify and utilize this result.\n",
    "\n",
    "**Part C**: Write a function `my_sample_mean` that takes as its input a numpy array and returns the mean of that numpy array using the formulas from class ([Equation 1](#eq1)). Write another function `my_sample_var` that takes as its input a numpy array and returns the variance of that numpy array, again using the formulas from class ([Equation 1](#eq1)). You may **not** use any built-in sample mean or variance functions."
   ]
  },
  {
   "cell_type": "code",
   "execution_count": 10,
   "metadata": {},
   "outputs": [],
   "source": [
    "def my_sample_mean(arr):\n",
    "    sum = 0\n",
    "    for i in arr:\n",
    "        sum += i\n",
    "    return sum/len(arr)\n",
    "\n",
    "def my_sample_var(arr):\n",
    "    sum = 0\n",
    "    for i in arr:\n",
    "        sum += (i - (my_sample_mean(arr)))**2\n",
    "    return sum/(len(arr) - 1)\n"
   ]
  },
  {
   "cell_type": "markdown",
   "metadata": {},
   "source": [
    "**Part D**: Use your functions from Part C to compute the sample mean and sample variance of the following array, which contains the minutes late that the BuffBus is running on Friday afternoon.\n",
    "\n",
    "`bus = [312, 4, 10, 0, 22, 39, 81, 19, 8, 60, 80, 42]`"
   ]
  },
  {
   "cell_type": "code",
   "execution_count": 15,
   "metadata": {},
   "outputs": [
    {
     "name": "stdout",
     "output_type": "stream",
     "text": [
      "Mean:  56.416666666666664\n",
      "Variance:  7274.628787878787\n"
     ]
    }
   ],
   "source": [
    "bus = np.array([312, 4, 10, 0, 22, 39, 81, 19, 8, 60, 80, 42])\n",
    "\n",
    "print(\"Mean: \", my_sample_mean(bus))\n",
    "\n",
    "print(\"Variance: \", my_sample_var(bus))"
   ]
  },
  {
   "cell_type": "code",
   "execution_count": null,
   "metadata": {},
   "outputs": [],
   "source": [
    "Mean: 56.417\n",
    "Variance: 7274.6287878787..."
   ]
  },
  {
   "cell_type": "markdown",
   "metadata": {},
   "source": [
    "**Part E**: Implement a third function called `update_mean` that implements the formula discussed after part B. Note that this function will need to take as its input three things: $x_n$, $\\bar{x}_{n-1}$ and $n$, and returns $\\bar{x}_{n}$. A function header and return statement are provided for you. This function may be auto-graded, so please do not change the given header API - the order of inputs matters! If you change it, you might lose points.\n",
    "\n",
    "Use this function to compute the values that you get from taking the mean of the first buff buses' lateness, the first two buff buses' lateness, the first three buff buses' lateness, and so on up to all of the `bus` data points from **Part D**. Store your streaming bus means in a numpy array called `buffbus_bad_means`.  Report all 12 estimates in `buffbus_bad_means`."
   ]
  },
  {
   "cell_type": "code",
   "execution_count": 14,
   "metadata": {},
   "outputs": [
    {
     "name": "stdout",
     "output_type": "stream",
     "text": [
      "Buff Bus Bad Means:  [312.         314.         320.66666667 320.66666667 338.26666667\n",
      " 370.76666667 440.1952381  456.8202381  463.93134921 517.93134921\n",
      " 590.65862193 629.15862193]\n"
     ]
    }
   ],
   "source": [
    "# Given API:\n",
    "def update_mean(prev_mean, xn, n):\n",
    "    now_mean = 0\n",
    "    now_mean = prev_mean + ((xn)-(prev_mean)/(n))\n",
    "    return now_mean\n",
    "\n",
    "n = len(bus)\n",
    "buffbus_bad_means = np.zeros(n)\n",
    "buffbus_bad_means[0] = bus[0] # edge case when there is no n-1 element\n",
    "\n",
    "for i in range(1,n):\n",
    "    buffbus_bad_means[i] = update_mean(bus[i], buffbus_bad_means[i-1], i+1)\n",
    "print(\"Buff Bus Bad Means: \", buffbus_bad_means)\n",
    "\n"
   ]
  },
  {
   "cell_type": "code",
   "execution_count": null,
   "metadata": {},
   "outputs": [],
   "source": [
    "Buff Bus Bad Means Array: [312, 314, 320.67, 320.67, 338.27, 370.77, 440.2, 456.82, 463.93, 517.93, 590.66, 629.16]"
   ]
  },
  {
   "cell_type": "markdown",
   "metadata": {},
   "source": [
    "<a id='Appendix'></a>\n",
    "\n",
    "## Appendix \n",
    "\n",
    "*Goal*: Prove that \n",
    "$$\n",
    "\\bar{x}_n = \\bar{x}_{n-1} + \\frac{x_n - \\bar{x}_{n-1}}{n}\n",
    "$$\n",
    "\n",
    "Note that you can get an expression for $\\bar{x}_{n-1}$ by simply replacing $n$ in Equation 1 above with $n-1$.\n",
    "\n",
    "We'll start with $\\bar{x}_n$ and massage it until we get the righthand side of the formula\n",
    "\n",
    "\\begin{eqnarray}\n",
    "\\nonumber \\bar{x}_n &=& \\frac{1}{n} \\sum_{k=1}^n x_k \\\\\n",
    "&=& \\frac{1}{n} \\sum_{k=1}^{n-1} x_k + \\frac{1}{n}x_n \\\\\n",
    "&=& \\frac{n-1}{n-1}\\frac{1}{n} \\sum_{k=1}^{n-1} x_k + \\frac{1}{n}x_n \\\\\n",
    "&=& \\frac{n-1}{n} \\left(\\frac{1}{n-1} \\sum_{k=1}^{n-1} x_k\\right) + \\frac{1}{n}x_n \\\\\n",
    "&=& \\frac{n-1}{n} \\bar{x}_{n-1} + \\frac{1}{n}x_n \\\\\n",
    "&=& \\frac{n}{n}\\bar{x}_{n-1} - \\frac{1}{n}\\bar{x}_{n-1} + \\frac{1}{n}x_n \\\\\n",
    "&=&  \\bar{x}_{n-1} + \\frac{x_n - \\bar{x}_{n-1}}{n} \\quad \\checkmark\n",
    "\\end{eqnarray}\n",
    "\n"
   ]
  }
 ],
 "metadata": {
  "kernelspec": {
   "display_name": "Python 3",
   "language": "python",
   "name": "python3"
  },
  "language_info": {
   "codemirror_mode": {
    "name": "ipython",
    "version": 3
   },
   "file_extension": ".py",
   "mimetype": "text/x-python",
   "name": "python",
   "nbconvert_exporter": "python",
   "pygments_lexer": "ipython3",
   "version": "3.8.6"
  }
 },
 "nbformat": 4,
 "nbformat_minor": 4
}
