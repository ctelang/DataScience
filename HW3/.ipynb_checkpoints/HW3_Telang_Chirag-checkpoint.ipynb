{
 "cells": [
  {
   "cell_type": "markdown",
   "metadata": {},
   "source": [
    "<a id='top'></a>\n",
    "\n",
    "# CSCI3022 S21\n",
    "# Homework 3: Probability and Simulations\n",
    "***\n",
    "\n",
    "**Name**: Chirag Telang\n",
    "\n",
    "***\n",
    "\n",
    "This assignment is due on Canvas by **MIDNIGHT on Monday, February 22**. Your solutions to theoretical questions should be done in Markdown directly below the associated question.  Your solutions to computational questions should include any specified Python code and results as well as written commentary on your conclusions.  Remember that you are encouraged to discuss the problems with your classmates, but **you must write all code and solutions on your own**.\n",
    "\n",
    "**NOTES**: \n",
    "\n",
    "- Any relevant data sets should be available on Canvas. To make life easier on the graders if they need to run your code, do not change the relative path names here. Instead, move the files around on your computer.\n",
    "- If you're not familiar with typesetting math directly into Markdown then by all means, do your work on paper first and then typeset it later.  Here is a [reference guide](https://math.meta.stackexchange.com/questions/5020/mathjax-basic-tutorial-and-quick-reference) linked on Canvas on writing math in Markdown. **All** of your written commentary, justifications and mathematical work should be in Markdown.  I also recommend the [wikibook](https://en.wikibooks.org/wiki/LaTeX) for LaTex.\n",
    "- Because you can technically evaluate notebook cells is a non-linear order, it's a good idea to do **Kernel $\\rightarrow$ Restart & Run All** as a check before submitting your solutions.  That way if we need to run your code you will know that it will work as expected. \n",
    "- It is **bad form** to make your reader interpret numerical output from your code.  If a question asks you to compute some value from the data you should show your code output **AND** write a summary of the results in Markdown directly below your code. \n",
    "- 95 points of this assignment are in problems.  The remaining 5 are for neatness, style, and overall exposition of both code and text.\n",
    "- This probably goes without saying, but... For any question that asks you to calculate something, you **must show all work and justify your answers to receive credit**. Sparse or nonexistent work will receive sparse or nonexistent credit. \n",
    "\n",
    "---\n",
    "**Shortcuts:**  [Problem 1](#p1) | [Problem 2](#p2) | [Problem 3](#p3) |\n",
    "---"
   ]
  },
  {
   "cell_type": "code",
   "execution_count": 1,
   "metadata": {},
   "outputs": [],
   "source": [
    "import pandas as pd\n",
    "import numpy as np\n",
    "import matplotlib.pylab as plt\n",
    "%matplotlib inline"
   ]
  },
  {
   "cell_type": "markdown",
   "metadata": {},
   "source": [
    "[Back to top](#top)\n",
    "\n",
    "<a id='p1'></a>\n",
    "\n",
    "## (25 pts) Problem 1 (Simulation): Let's play some \"games\"!\n",
    "***\n",
    "\n",
    "One of the big payoffs of simulation is that it can let us answer some probability questions that are otherwise quite difficult.  We can instead just simulate the process and get approximate results based on simulation.\n",
    "\n"
   ]
  },
  {
   "cell_type": "markdown",
   "metadata": {},
   "source": [
    "***\n",
    "### A) Poker... pen-and-paper\n",
    "Game number 1... is Poker!\n",
    "\n",
    "A common example for discrete counting and probability questions are poker hands.  Consider using a standard 52-card playing deck, with card faces `[A,2,3,4,5,6,7,8,9,10,J,Q,K]` across the standard 4 suits: `[C,D,H,S]`.\n",
    "\n",
    "Suppose we draw 5 cards at random from the deck.  What is the exact probability that we have a \"full house:\" a hand with 3 copies of one card face type (of any suits) and the other two cards matches of a different card face type (of any suits)?  Typeset your work below.  You may leave your answer in terms of a ratio of products, but you should simplify away any combinatoric notation such as ${n \\choose k}$ or $P(n,k)$.\n"
   ]
  },
  {
   "cell_type": "markdown",
   "metadata": {},
   "source": [
    "***\n",
    "$\\frac{C(13,1)*C(4,3)*C(12,1)*C(4,2))}{C(52,5)}$\n",
    "\n",
    "\n"
   ]
  },
  {
   "cell_type": "markdown",
   "metadata": {},
   "source": [
    "***\n",
    "### B) Poker with computers!\n",
    "\n",
    "Write a simulation that draws a hand of 5 cards from a standard 52-card deck. Repeat this simulation 10000 times, and report how many \"full house\" hands were observed. Verify that the result is consistent with your answer to part A.\n",
    "\n",
    "NB: The function `np.unique` can make checking hands easier.  Your actual simulation should have 52 distinct cards, even if we're only using the faces (and not suits) for the check of full house."
   ]
  },
  {
   "cell_type": "code",
   "execution_count": 11,
   "metadata": {},
   "outputs": [
    {
     "data": {
      "text/plain": [
       "0.1012"
      ]
     },
     "execution_count": 11,
     "metadata": {},
     "output_type": "execute_result"
    }
   ],
   "source": [
    "from random import shuffle\n",
    "import collections\n",
    "def checkFH():\n",
    "    deck = []\n",
    "    faces = ['A', '2', '3', '4', '5', '6', '7','8', '9', '10', 'J', 'Q', 'K']\n",
    "    suits = ['C', 'D', 'H', 'S']\n",
    "    \n",
    "    for x in suits:\n",
    "        for y in faces:\n",
    "            deck.append(x + y)\n",
    "    shuffle(deck)\n",
    "    \n",
    "    count = 0\n",
    "    maxRun = 10000\n",
    "    for i in range(0, maxRun):\n",
    "        shuffle(deck)\n",
    "        currentHand = deck[:5]\n",
    "        facesHand = [i[0] for i in currentHand]\n",
    "        totalCount = collections.defaultdict(lambda:0)\n",
    "        for j in facesHand:\n",
    "            totalCount[j]+=1\n",
    "        if sorted(totalCount.values()) == [2,3]:\n",
    "            count+=1\n",
    "    return float(count/maxRun)\n",
    "\n",
    "checkFH()"
   ]
  },
  {
   "cell_type": "markdown",
   "metadata": {},
   "source": [
    "The Riddler is a column on the website https://fivethirtyeight.com that posts logic, math, and probability puzzles each week.  Some of puzzles can be attacked by simulation and discrete probability: things that we have the tools to solve!\n",
    "\n",
    "Parts C/Eare former Riddler prompts.\n",
    "\n",
    "\n",
    "***\n",
    "### C) A \"solitaire\" game\n",
    "\n",
    "On snowy afternoons, you like to play a solitaire “game” with a standard, randomly shuffled deck of 52 cards. You start dealing cards face up, one at a time, into a pile. As you deal each card, you also speak aloud, in order, the 13 card faces in a standard deck: ace, two, three, etc. (When you get to king, you start over at ace.) You keep doing this until the rank of the card you deal matches the rank you speak aloud, in which case you lose. You win if you reach the end of the deck without any matches.\n",
    "\n",
    "Set up a simulation to answer the prompt: what is the probability that you win?\n",
    "\n",
    "Note that your final result should be *close* to the value of $(12/13)^{52}$, which would be the theoretical result if each card flip was independent.  Was it higher or lower?  Does this match your intuition?"
   ]
  },
  {
   "cell_type": "code",
   "execution_count": 13,
   "metadata": {},
   "outputs": [
    {
     "data": {
      "text/plain": [
       "0.0158"
      ]
     },
     "execution_count": 13,
     "metadata": {},
     "output_type": "execute_result"
    }
   ],
   "source": [
    "def solitaire():\n",
    "    deck = []\n",
    "    faces = ['A', '2', '3', '4', '5', '6', '7','8', '9', '10', 'J', 'Q', 'K']\n",
    "    suits = ['C', 'D', 'H', 'S']\n",
    "    \n",
    "    for x in suits:\n",
    "        for y in faces:\n",
    "            deck.append(x + y)\n",
    "    shuffle(deck)\n",
    "    \n",
    "    faceSequence = ['A', '2', '3', '4', '5', '6', '7',\n",
    "             '8', '9', '10', 'J', 'Q', 'K', 'A', '2', '3', '4', '5', '6', '7',\n",
    "             '8', '9', '10', 'J', 'Q', 'K','A', '2', '3', '4', '5', '6', '7',\n",
    "             '8', '9', '10', 'J', 'Q', 'K','A', '2', '3', '4', '5', '6', '7',\n",
    "             '8', '9', '10', 'J', 'Q', 'K']\n",
    "    \n",
    "    for i in range(0,52):\n",
    "        if faceSequence[i] in deck[i]:\n",
    "            return True\n",
    "\n",
    "def prob_solitaire():\n",
    "    count = 0\n",
    "    maxRun = 10000\n",
    "    for i in range(0, maxRun):\n",
    "        if solitaire() != True:\n",
    "            count = count + 1\n",
    "    return float(count/maxRun)\n",
    "\n",
    "prob_solitaire()"
   ]
  },
  {
   "cell_type": "markdown",
   "metadata": {},
   "source": [
    "***\n",
    "My final result was 0.158 and $(12/13)^{52} = 0.1557$ -- so my result was slightly higher. This does match my intuition.\n",
    "\n",
    "\n"
   ]
  },
  {
   "cell_type": "markdown",
   "metadata": {},
   "source": [
    "***\n",
    "### D) Random motion\n",
    "\n",
    "Suppose that all city streets follow a grid layout, running north-south and east-west. You’re driving north when you decide to play a little game. Every time you reach an intersection, you randomly turn left or right, each with a 50 percent chance.\n",
    "\n",
    "After driving through 10 intersections, what is the probability that you are still driving north?\n"
   ]
  },
  {
   "cell_type": "code",
   "execution_count": 18,
   "metadata": {},
   "outputs": [
    {
     "name": "stdout",
     "output_type": "stream",
     "text": [
      "Turn 0 : 1.0\n",
      "Turn 1 : 0.0\n",
      "Turn 2 : 0.496\n",
      "Turn 3 : 0.0\n",
      "Turn 4 : 0.4998\n",
      "Turn 5 : 0.0\n",
      "Turn 6 : 0.4966\n",
      "Turn 7 : 0.0\n",
      "Turn 8 : 0.5057\n",
      "Turn 9 : 0.0\n",
      "Turn 10 : 0.5001\n"
     ]
    }
   ],
   "source": [
    "import random\n",
    "def drive_north():\n",
    "    currDirection = \"North\"\n",
    "    arr = [0,0,0,0,0,0,0,0,0,0,0]\n",
    "    for i in range(0,len(arr)):\n",
    "        arr[i] = 0\n",
    "    maxRun = 10000\n",
    "    for x in range(0,maxRun):\n",
    "        currDirection = \"North\"\n",
    "        for i in range(0,11):\n",
    "            if currDirection == \"North\":\n",
    "                currDirection = random.choice([\"West\", \"East\"])\n",
    "                arr[i] +=1\n",
    "            elif currDirection == \"East\":\n",
    "                currDirection = random.choice([\"North\", \"South\"])         \n",
    "            elif currDirection == \"South\":\n",
    "                currDirection = random.choice([\"West\", \"East\"])\n",
    "\n",
    "            else:\n",
    "                currDirection = random.choice([\"North\", \"South\"])\n",
    "\n",
    "\n",
    "    for j in range(0,11):\n",
    "        arr[j] = arr[j]/maxRun\n",
    "        print(\"Turn\", j, \":\", arr[j])\n",
    "    return \n",
    "\n",
    "drive_north()"
   ]
  },
  {
   "cell_type": "markdown",
   "metadata": {},
   "source": [
    "***\n",
    "After driving through 10 intersection, the probability of that you are still driving north is around 50%. \n",
    "\n",
    "\n"
   ]
  },
  {
   "cell_type": "markdown",
   "metadata": {},
   "source": [
    "***\n",
    "### E) More Random motion\n",
    "\n",
    "Now suppose that at every intersection, there’s a one-third chance you turn left, a one-third chance you turn right and a one-third chance you drive straight. Create a set of simulations that record which direction you're driving 11 times.  \n",
    "\n",
    "It is recommended that you save the results in a data frame of the form below:\n",
    "\n",
    "| Start | T1 | T2 | T3 | ... | T10 |\n",
    "| --- | --- |\n",
    "| N | E | N | W| ... | N |\n",
    "| N | W | W | S | ... | E|\n",
    "| N | W | N | E | ... | W|\n",
    "\n",
    "then create a plot where the $x$ axis is \"numbers of turns made\" from 0 to 10, and the $y$ axis is \"probability that you're driving North.\"\n"
   ]
  },
  {
   "cell_type": "code",
   "execution_count": 3,
   "metadata": {},
   "outputs": [
    {
     "name": "stdout",
     "output_type": "stream",
     "text": [
      "Turn 0 : 1.0\n",
      "Turn 1 : 0.3289\n",
      "Turn 2 : 0.3318\n",
      "Turn 3 : 0.2593\n",
      "Turn 4 : 0.2607\n",
      "Turn 5 : 0.248\n",
      "Turn 6 : 0.2464\n",
      "Turn 7 : 0.2522\n",
      "Turn 8 : 0.2557\n",
      "Turn 9 : 0.2574\n",
      "Turn 10 : 0.252\n"
     ]
    },
    {
     "data": {
      "image/png": "[encoded data removed]",
      "text/plain": [
       "<Figure size 432x288 with 1 Axes>"
      ]
     },
     "metadata": {
      "needs_background": "light"
     },
     "output_type": "display_data"
    }
   ],
   "source": [
    "import random\n",
    "def drive_north():\n",
    "    currDirection = \"North\"\n",
    "    arr = [0,0,0,0,0,0,0,0,0,0,0]\n",
    "    for i in range(0,len(arr)):\n",
    "        arr[i] = 0\n",
    "    maxRun = 10000\n",
    "    for x in range(0,maxRun):\n",
    "        currDirection = \"North\"\n",
    "        for i in range(0,11):\n",
    "            if currDirection == \"North\":\n",
    "                currDirection = random.choice([\"North\", \"West\", \"East\"])\n",
    "                arr[i] +=1\n",
    "            elif currDirection == \"East\":\n",
    "                currDirection = random.choice([\"North\", \"South\", \"East\"])         \n",
    "\n",
    "            elif currDirection == \"South\":\n",
    "                currDirection = random.choice([\"South\", \"West\", \"East\"])\n",
    "\n",
    "            else:\n",
    "                currDirection = random.choice([\"North\", \"South\", \"West\"])\n",
    "\n",
    "\n",
    "\n",
    "    for j in range(0,11):\n",
    "        arr[j] = arr[j]/maxRun\n",
    "        print(\"Turn\", j, \":\", arr[j])\n",
    "    np_arr = np.array(arr)\n",
    "    df = pd.DataFrame({\"Probability\":[np_arr]})\n",
    "    x = np.arange(0,11)\n",
    "    y = np_arr\n",
    "    plt.title(\"Probability of Driving North\") \n",
    "    plt.xlabel(\"number of turns made\") \n",
    "    plt.ylabel(\"probability that you're driving North\")\n",
    "    plt.plot(x,y,\"ob\")\n",
    "    plt.show()\n",
    "    return \n",
    "\n",
    "drive_north()"
   ]
  },
  {
   "cell_type": "markdown",
   "metadata": {},
   "source": [
    "[Back to top](#top)\n",
    "<a/ id='p2'></a>\n",
    "\n",
    "## (20 pts) Problem 2 (Simulation and Theory): Bayes and Repeated Observations\n",
    "***\n",
    "\n",
    "\n",
    "To play a game, you have a bag containing 25 fair six-sided dice, with faces `{1,2,3,4,5,6}`.  <img style=\"float: right; width: 200px; padding: 3mm;\" src=\"https://images-na.ssl-images-amazon.com/images/I/619NZnvxJaL._SX425_.jpg\" alt=\"Drawing\"/>\n",
    "This bag also contains 10 fair eight-sided dice (faces `{1,2,3,4,5,6,7,8}`) and 2 fair twenty-sided dice (faces `{1,2,3,4,...,19,20}`).  Call these 3 classes of die \"Six\", \"Eight\" and \"Twenty\" (or S, E, and T, for short). In order to be sure that you are not distinguishing dice by their feel, you are required to wear crab claw gloves. After donning your gloves, you grab one die at random from the bag. \n",
    "\n",
    "Work the following problems by hand (or claw) unless otherwise stated (but don't be afraid to simulate to check your result!). "
   ]
  },
  {
   "cell_type": "markdown",
   "metadata": {},
   "source": [
    "***\n",
    "### Part A: You roll your die one time.  What is the probability of the event $R_7$, that you roll a 7?  Include at least 4 decimal places in your answer."
   ]
  },
  {
   "cell_type": "markdown",
   "metadata": {},
   "source": [
    "***\n",
    "$P(S) = 25/37 \\\\\n",
    "P(E) = 10/37 \\\\\n",
    "P(T) = 2/37 \\\\ \n",
    "P(R_7) = P(S)P(S_7) + P(E)P(E_7) + P(T)P(T_7) \\\\\n",
    "P(R_7) = (25/37)(0) + (10/37)(1/8) + (2/37)(1/20) \\\\\n",
    "P(R_7) = 0.0338 + 0.0027 = 0.0365\n",
    "$ \n"
   ]
  },
  {
   "cell_type": "markdown",
   "metadata": {},
   "source": [
    "***\n",
    "### Part B: Suppose you roll a 7.  What is the probability that the die you chose from the bag is an Eight-sided die? "
   ]
  },
  {
   "cell_type": "markdown",
   "metadata": {},
   "source": [
    "***\n",
    "$P(E|R_7) = $$\\frac{P(R_7|E)P(E)}{P(R_7)} \\rightarrow $\n",
    "$P(E|R_7) = $$\\frac{(0.0338)(0.27)}{(0.0365)} $ \n",
    "$= 0.25$\n",
    "\n",
    "\n"
   ]
  },
  {
   "cell_type": "markdown",
   "metadata": {},
   "source": [
    "***\n",
    "### Part C: Are the events $R_7$ and $E$ independent?  Justify your answer **using math**."
   ]
  },
  {
   "cell_type": "markdown",
   "metadata": {},
   "source": [
    "***\n",
    "No, they are not independent because $P(R_7) \\ne P(R_7 | E) $\n",
    "\n",
    " - $P(R_7) = 0.0365$ (From Part A)\n",
    " - $P(R_7 | E) = 0.0338$ (From Part B)\n"
   ]
  },
  {
   "cell_type": "markdown",
   "metadata": {},
   "source": [
    "*** \n",
    "### Part D:  Suppose you roll your die $n$ times and record each outcome.  Obviously, if you roll 7 or 8 you know you did *not* pick a Six-sided die, and if you roll a 9 or higher, you must have picked a Twenty-sided die.\n",
    "\n",
    "But, if you roll $n$ times in a row and get only 1, 2, 3, 4, 5, or 6 you would have a stronger belief that you in fact grabbed one of the Six-sided dice.  Let $L_n$ be the event that you roll $n$ rolls of 1, 2, 3, 4, 5, or 6 in a row.  For example, one outcome in $L_3$ is the sequence 2, 3, 1.\n",
    "\n",
    "Given that you roll a single value of 1, 2, 3, 4, 5, or 6, what is the probability that you have grabbed a Six-sided die?  That is, calculate **by hand** $P(S \\mid L_1)$."
   ]
  },
  {
   "cell_type": "markdown",
   "metadata": {},
   "source": [
    "***\n",
    "$P(S | L_1) = \\frac{P(L_1 | S)P(S)}{P(L_1 | S)P(S) + P(L_1 | E)P(E) + P(L_1 | T)P(T)}\\\\$\n",
    "$P(S | L_1) = \\frac{(1)(25/37)}{(1)(25/37) + (6/8)(10/37) + (6/20)(2/37)} = 0.7553$"
   ]
  },
  {
   "cell_type": "markdown",
   "metadata": {},
   "source": [
    "***\n",
    "### Part E:  \n",
    "\n",
    "First, work out **by hand** a formula for the probability in general that you are rolling a Six-sided die, given that you have rolled $n$ values in a row that are 1, 2, 3, 4, 5 or 6 (that is, $L_n$).  So you want a formula for $P(S \\mid L_n)$ in terms of $n$.\n",
    "\n",
    "Then, define a function `prob_six` to calculate $P(S \\mid L_n)$.  This function should only take one positive integer argument, $n$.\n",
    "\n",
    "Verify that your function is performing as expected by checking your answer to **Part D**."
   ]
  },
  {
   "cell_type": "markdown",
   "metadata": {},
   "source": [
    "***\n",
    "$P(S | L_1) = \\frac{P(L_n | S)P(S)}{P(L_n | S)P(S) + P(L_n | E)P(E) + P(L_n | T)P(T)} = \\frac{P(L_n | S)(25/37)}{P(L_n | S)(25/37) + P(L_n | E)(10/37) + P(L_n | T)(2/37)} $\n",
    " - $P(L_n | S) = 1$ \n",
    " - $P(L_n | E) = (6/8)^n = (2/3)^n$\n",
    " - $P(L_n | T) = (6/20)^n = (3/10)^n$\n",
    " \n",
    "$P(S | L_1) = \\frac{(25/37)}{(25/37) + (2/3)^n (10/37) + (3/10)^n (2/37)}$"
   ]
  },
  {
   "cell_type": "code",
   "execution_count": 6,
   "metadata": {},
   "outputs": [
    {
     "name": "stdout",
     "output_type": "stream",
     "text": [
      "0.7747933884297521\n"
     ]
    }
   ],
   "source": [
    "def prob_six(n):\n",
    "    return (25/37)/((25/37) + ((10/37)*((2/3)**n)) + ((2/37)*(.3**n)))\n",
    "\n",
    "# Verification of Part D answer:  plug in n=1\n",
    "print(prob_six(1))"
   ]
  },
  {
   "cell_type": "markdown",
   "metadata": {},
   "source": [
    "***\n",
    "### Part F:  What is the smallest value of $n$ successive rolls of 1, 2, 3, 4, 5 or 6 that would make you believe that there's a better-than-95% chance that the die you grabbed is Six-sided?  Plugging larger and larger values for $n$ into your `prob_six` function is a very reasonable way to check this."
   ]
  },
  {
   "cell_type": "code",
   "execution_count": 7,
   "metadata": {},
   "outputs": [
    {
     "name": "stdout",
     "output_type": "stream",
     "text": [
      "0.7747933884297521\n",
      "0.8438976820943667\n",
      "0.8923165595446145\n",
      "0.9262172163701049\n",
      "0.9497855077890557\n",
      "0.9660203145717471\n"
     ]
    }
   ],
   "source": [
    "def smallestN(n): \n",
    "    for n in range(1,7):\n",
    "        print(prob_six(n))\n",
    "        \n",
    "smallestN(1) # Test function here so display the 6 values we need to look at"
   ]
  },
  {
   "cell_type": "markdown",
   "metadata": {},
   "source": [
    "[Back to top](#top)\n",
    "<a/ id='p3'></a>\n",
    "\n",
    "## (5 pts) Problem 3 (Theory): It's probably Bayes\n",
    "***\n"
   ]
  },
  {
   "cell_type": "markdown",
   "metadata": {},
   "source": [
    "To get published in an academic journal, you have to prove something \"interesting.\"  As a result, most academics begin their research by investigating hypotheses that, all else equal, are unlikely to be true.  Suppose each research project begins with a research *hypothesis* that has a 7% chance of being correct.\n",
    "\n",
    "They then perform a study that satisfies the following two properties:\n",
    "\n",
    "    1) The probability that they correctly *find* an important result given that their *hypothesis* is true is 50%\n",
    "    2) The probability that they incorrectly *find* an important result given that their *hypothesis* is false is 5%\n",
    "\n",
    "If they *find* an important result they are published.  What is the probability that their *hypothesis* was true, given that they were published?"
   ]
  },
  {
   "cell_type": "markdown",
   "metadata": {},
   "source": [
    "***\n",
    "$P(TH) = 0.07$\n",
    "\n",
    "$P(FH) = 0.93$\n",
    "\n",
    "$P(C|TH) = 0.5$\n",
    "\n",
    "$P(IC|FH) = 0.05$\n",
    "\n",
    "$P(C|FH) = 0.95$\n",
    "\n",
    "$P(C) = P(C|TH)P(T) + P(C|FH)P(FH)$\n",
    "\n",
    "$P(C) = (0.5)(0.07) + (0.95)(0.93) = 0.9185$\n",
    "\n",
    "$P(TH|C) = \\frac{P(C|TH)P(TH)}{P(C)}$\n",
    "\n",
    "$P(TH|C) = \\frac{(0.5)(0.07)}{(0.9185)} = 0.0381$\n"
   ]
  },
  {
   "cell_type": "markdown",
   "metadata": {},
   "source": [
    "[Back to top](#top)"
   ]
  }
 ],
 "metadata": {
  "kernelspec": {
   "display_name": "Python 3",
   "language": "python",
   "name": "python3"
  },
  "language_info": {
   "codemirror_mode": {
    "name": "ipython",
    "version": 3
   },
   "file_extension": ".py",
   "mimetype": "text/x-python",
   "name": "python",
   "nbconvert_exporter": "python",
   "pygments_lexer": "ipython3",
   "version": "3.8.6"
  }
 },
 "nbformat": 4,
 "nbformat_minor": 4
}
